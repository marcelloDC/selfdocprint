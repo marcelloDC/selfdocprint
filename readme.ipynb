{
 "cells": [
  {
   "cell_type": "markdown",
   "metadata": {},
   "source": [
    "# Selfdocprint\n",
    "\n",
    "Provides enhanced and configurable `print()` functionality that allows for easily printing values such that they are: \n",
    "\n",
    "* *self-documented*\n",
    "* *formatted*\n",
    "* *nicely laid out*\n",
    "\n",
    "Supports the keyword arguments: `file=` and `flush=`."
   ]
  },
  {
   "cell_type": "code",
   "execution_count": 1,
   "metadata": {},
   "outputs": [
    {
     "name": "stdout",
     "output_type": "stream",
     "text": [
      "\n",
      "\u001b[95mformula: \u001b[0mUltimate Question of Life,    \u001b[95mtheta: \u001b[0m6.006  \u001b[95mx: \u001b[0m7  \u001b[95mx * theta: \u001b[0m42.042\n",
      "         the Universe, and Everything                                       \n"
     ]
    }
   ],
   "source": [
    "from selfdocprint import print\n",
    "\n",
    "# some data\n",
    "formula = \"Ultimate Question of Life,\\nthe Universe, and Everything\"\n",
    "theta = 6.006\n",
    "x = 7\n",
    "\n",
    "\n",
    "print(formula, theta, x, x*theta)"
   ]
  },
  {
   "cell_type": "markdown",
   "metadata": {},
   "source": [
    "The default value for the `layout=` keyword argument (normally `None`) can be configured so that subsequent calls require even less typing. In this case it would be good practice to not call the function 'print' to avoid confusion with the expected behaviour of python's built-in `print()`."
   ]
  },
  {
   "cell_type": "code",
   "execution_count": 7,
   "metadata": {},
   "outputs": [
    {
     "name": "stdout",
     "output_type": "stream",
     "text": [
      "\n",
      "\u001b[95mformula: \u001b[0mUltimate Question of Life,    \u001b[95mtheta: \u001b[0m6.006  \u001b[95mx: \u001b[0m7  \u001b[95mx * theta: \u001b[0m42.042\n",
      "         the Universe, and Everything                                       \n"
     ]
    }
   ],
   "source": [
    "prinline = PrintFunc(default_layout=InlineLayout())\n",
    "\n",
    "prinline(formula, theta, x, x*theta)"
   ]
  },
  {
   "cell_type": "markdown",
   "metadata": {},
   "source": [
    "A layout can be customised by overriding one or more of its fields (The fields are described in detail in the section: 'Style, format and layout specification'). Note that in the example below we override `head=` to suppress the empty line that is normally printed in front of the output when using the InlineLayout."
   ]
  },
  {
   "cell_type": "code",
   "execution_count": 8,
   "metadata": {},
   "outputs": [
    {
     "name": "stdout",
     "output_type": "stream",
     "text": [
      "\u001b[95mi -> \u001b[0m0  \u001b[95mi * theta -> \u001b[0m    0.000000\n",
      "\u001b[95mi -> \u001b[0m21  \u001b[95mi * theta -> \u001b[0m  126.126000\n",
      "\u001b[95mi -> \u001b[0m42  \u001b[95mi * theta -> \u001b[0m  252.252000\n",
      "\u001b[95mi -> \u001b[0m63  \u001b[95mi * theta -> \u001b[0m  378.378000\n",
      "\u001b[95mi -> \u001b[0m84  \u001b[95mi * theta -> \u001b[0m  504.504000\n"
     ]
    }
   ],
   "source": [
    "for i in range(0, 99, 21):\n",
    "    print(i, i * theta, layout=InlineLayout(float_format=\"12.6f\", pointer=\" -> \", head=\"\"))"
   ]
  },
  {
   "cell_type": "markdown",
   "metadata": {},
   "source": [
    "Custom layouts can be created and referenced in subsequent calls. Note that in the example below we change the `style=` for the labels, which is specified as [ANSI Select Graphic Rendition](https://en.wikipedia.org/wiki/ANSI_escape_code#SGR_(Select_Graphic_Rendition)_parameters) parameters."
   ]
  },
  {
   "cell_type": "code",
   "execution_count": 9,
   "metadata": {},
   "outputs": [
    {
     "name": "stdout",
     "output_type": "stream",
     "text": [
      "\n",
      "\u001b[92;3mx: \u001b[0m   7  \u001b[92;3mx * theta: \u001b[0m42.042\n"
     ]
    }
   ],
   "source": [
    "my_layout = InlineLayout(style=\"92;3\", int_format=\"4\")\n",
    "\n",
    "print(x, x * theta, layout=my_layout)"
   ]
  },
  {
   "cell_type": "markdown",
   "metadata": {},
   "source": [
    "## Built-in layouts\n",
    "Next to the *'inline'* layout three additional layouts are available. The example below demonstrates the *'dict'* layout. In addition it shows the use of the `beg=` keyword argument which can be used to provide a heading to the output."
   ]
  },
  {
   "cell_type": "code",
   "execution_count": 10,
   "metadata": {},
   "outputs": [
    {
     "name": "stdout",
     "output_type": "stream",
     "text": [
      "Using the 'dict' layout:\n",
      "\n",
      "\u001b[95mformula   : \u001b[0mUltimate Question of Life,  \n",
      "            the Universe, and Everything\n",
      "\u001b[95mtheta     : \u001b[0m       6.006\n",
      "\u001b[95mx         : \u001b[0m       7\n",
      "\u001b[95mx * theta : \u001b[0m      42.042\n"
     ]
    }
   ],
   "source": [
    "from selfdocprint import DictLayout\n",
    "\n",
    "print(formula, theta, x, x*theta, layout=DictLayout(), beg=\"Using the 'dict' layout:\\n\")"
   ]
  },
  {
   "cell_type": "markdown",
   "metadata": {},
   "source": [
    "For values that take up a lot of horizontal space the *'scroll'* layout is particularly useful."
   ]
  },
  {
   "cell_type": "code",
   "execution_count": 11,
   "metadata": {},
   "outputs": [
    {
     "name": "stdout",
     "output_type": "stream",
     "text": [
      "Using the 'scroll' layout:\n",
      "\n",
      "\u001b[95mX:\n",
      "\u001b[0m[[0.97621221 0.16093693 0.61981285 0.95346398 0.93562747]\n",
      " [0.90888155 0.01872998 0.06674502 0.9526218  0.21333503]\n",
      " [0.67089376 0.33947049 0.93339294 0.63176867 0.5430394 ]\n",
      " [0.57586679 0.61559037 0.18789235 0.65569875 0.27490041]\n",
      " [0.71899852 0.63343481 0.53428263 0.73443678 0.98041046]]\n",
      "\n",
      "\u001b[95mX.T @ X:\n",
      "\u001b[0m[[3.07773582 1.2118173  1.78428908 3.1261073  2.33480867]\n",
      " [1.2118173  0.92168287 0.87195821 1.25461662 1.12917078]\n",
      " [1.78428908 0.87195821 1.58060671 1.759838   1.67649009]\n",
      " [3.1261073  1.25461662 1.759838   3.18505173 2.33869133]\n",
      " [2.33480867 1.12917078 1.67649009 2.33869133 2.2525773 ]]\n",
      "\n"
     ]
    }
   ],
   "source": [
    "from selfdocprint import ScrollLayout\n",
    "import numpy as np\n",
    "\n",
    "X = np.random.rand(5,5)\n",
    "\n",
    "print(X, X.T @ X, layout=ScrollLayout(), beg=\"Using the 'scroll' layout:\\n\")"
   ]
  },
  {
   "cell_type": "markdown",
   "metadata": {},
   "source": [
    "Use the *'minimal'* layout if you only want to print labels in front of the values."
   ]
  },
  {
   "cell_type": "code",
   "execution_count": 12,
   "metadata": {},
   "outputs": [
    {
     "name": "stdout",
     "output_type": "stream",
     "text": [
      "Using the 'minimal' layout:\n",
      "\n",
      "\u001b[95mformula:\u001b[0mUltimate Question of Life,\n",
      "the Universe, and Everything \u001b[95mtheta:\u001b[0m6.006 \u001b[95mx:\u001b[0m7 \u001b[95mtheta * x:\u001b[0m42.042\n"
     ]
    }
   ],
   "source": [
    "from selfdocprint import MinimalLayout\n",
    "\n",
    "print(formula, theta, x, theta*x, layout=MinimalLayout(), beg=\"Using the 'minimal' layout:\\n\\n\")"
   ]
  },
  {
   "cell_type": "markdown",
   "metadata": {},
   "source": [
    "## Style, format and layout specification\n",
    "The `selfdocprint.print_layout_specs()` function prints the specification for every built-in layout and a rudimentary description of the layout algorithm."
   ]
  },
  {
   "cell_type": "code",
   "execution_count": 13,
   "metadata": {},
   "outputs": [
    {
     "name": "stdout",
     "output_type": "stream",
     "text": [
      "\n",
      "                   layout :  Inline     Dict       Scroll     Minimal\n",
      "\u001b[95;3mlbl_format               \u001b[0m :  ''         '<'        ''         ''         # applied to labels\n",
      "\u001b[95;3mint_format               \u001b[0m :  ''         '-8'       ''         ''         # applied to values of type int\n",
      "\u001b[95;3mfloat_format             \u001b[0m :  ''         '-12.3f'   ''         ''         # applied to values of type float\n",
      "\u001b[95;3mstr_format               \u001b[0m :  '<'        '<'        ''         ''         # applied to all other value types after conversion to str\n",
      "\u001b[95;3mhead                     \u001b[0m :  '\\n'       '\\n'       '\\n'       ''         # printed at the beginning of the output\n",
      "\u001b[95;3mseperator\u001b[0m.join([          :  '  '       '\\n'       '\\n\\n'     ' '        # printed inbetween the styled and formatted label/value pairs\n",
      "    \u001b[95;3mstyle\u001b[0m(<label> +       :  '95'       '95'       '95'       '95'       # style applied to the concatenation of <label> and pointer\n",
      "    \u001b[95;3mpointer\u001b[0m) + <value>    :  ': '       ' : '      ':\\n'      ':'        # printed in between the <label> and its associated <value>\n",
      "    , ...])\n",
      "\u001b[95;3mtail\u001b[0m                      :  ''         ''         '\\n'       ''         # printed at the end of the output\n",
      "\u001b[95;3mliteral_lbl              \u001b[0m :  '_'        '_'        '_'        '_'        # used as a label for literal values\n",
      "\n",
      "# for the formatting specification see: https://docs.python.org/3/library/string.html#formatspec\n",
      "# for the style code specification see: https://en.wikipedia.org/wiki/ANSI_escape_code#SGR_(Select_Graphic_Rendition)_parameters\n",
      "\n"
     ]
    }
   ],
   "source": [
    "import selfdocprint as sdp\n",
    "\n",
    "sdp.print_layout_specs()"
   ]
  },
  {
   "cell_type": "markdown",
   "metadata": {},
   "source": [
    "All parameters are of type str. The format parameters are specified according to python's [Format Specification Mini-Language](https://docs.python.org/3/library/string.html#formatspec). If an alignment character (<, >, or ^) is specified without a fixed width in the lbl_format, then the alignment will be made relative to all other <labels\\>. For the str_format a missing width value will result in an alignment of all lines in the string representation of a value. The algorithm injects the width of the longest string of the <label\\> strings and the width of the longest line in a <value\\> string into lbl_format and str_format respectively.\n",
    "\n",
    "The sty parameter is a string with zero or more [ANSI Select Graphic Rendition](https://en.wikipedia.org/wiki/ANSI_escape_code#SGR_(Select_Graphic_Rendition)_parameters) parameters seperated by semicolons (;).\n",
    "\n",
    "The layout algorithm globally works as follows: 1) adjust lbl_format and str_format where necessary; 2) style and format the concatenations of each <label\\> with `pointer`; 3) format the values; 4) layout each <label\\>/<value\\> pair in a 'pane'; 5) join these panes together with `seperator`; 6) print the panes: if `seperator` contains a newline ('\\n') character then the panes are laid out from top to bottom, if not, they are laid out from left to right."
   ]
  },
  {
   "cell_type": "markdown",
   "metadata": {},
   "source": [
    "## Limitations\n",
    "* Selfdocprint cannot be used in the Repl nor with `eval()`, `exec()` and `compile()`. Selfdocprint uses the `inspect` module to discover the labels and this does not work in these situations.\n",
    "* Selfdocprint's print function cannot accept arguments that use the unpack operator, for example to unpack a tuple: `*my_tuple`. This does not make sense anyway because there is nothing to label the individual values of the tuple with, so it's just as informative to just use the tuple variable as is."
   ]
  }
 ],
 "metadata": {
  "kernelspec": {
   "display_name": ".venv",
   "language": "python",
   "name": "python3"
  },
  "language_info": {
   "codemirror_mode": {
    "name": "ipython",
    "version": 3
   },
   "file_extension": ".py",
   "mimetype": "text/x-python",
   "name": "python",
   "nbconvert_exporter": "python",
   "pygments_lexer": "ipython3",
   "version": "3.11.6"
  },
  "orig_nbformat": 4
 },
 "nbformat": 4,
 "nbformat_minor": 2
}
